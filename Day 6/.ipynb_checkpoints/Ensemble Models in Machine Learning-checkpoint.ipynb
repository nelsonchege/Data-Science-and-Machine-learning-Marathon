{
 "cells": [
  {
   "cell_type": "markdown",
   "id": "2404cf0f",
   "metadata": {},
   "source": [
    "## Ensemble models"
   ]
  },
  {
   "cell_type": "markdown",
   "id": "04108403",
   "metadata": {},
   "source": [
    "is a machine learning approach to combine multiple other models in the prediction process"
   ]
  },
  {
   "cell_type": "markdown",
   "id": "a044aa5c",
   "metadata": {},
   "source": [
    "###### Some technical challenges of using single models include"
   ]
  },
  {
   "cell_type": "markdown",
   "id": "09732eda",
   "metadata": {},
   "source": [
    "- High variance: The model is very sensitive to the provided inputs to the learned features.\n",
    "- Low accuracy: One model or one algorithm to fit the entire training data might not be good enough to meet expectations.\n",
    "- Features noise and bias:  The model relies heavily on one or a few features while making a prediction."
   ]
  },
  {
   "cell_type": "markdown",
   "id": "d6de5ae5",
   "metadata": {},
   "source": [
    "### Ensemble Algorithm"
   ]
  },
  {
   "cell_type": "markdown",
   "id": "17699533",
   "metadata": {},
   "source": [
    "If we build and combine multiple models, the overall accuracy could get boosted. The combination can be implemented by aggregating the output from each model with two objectives: reducing the model error and maintaining its generalization"
   ]
  },
  {
   "cell_type": "markdown",
   "id": "3f568324",
   "metadata": {},
   "source": [
    "### Ensemble Learning"
   ]
  },
  {
   "cell_type": "markdown",
   "id": "8b668aaa",
   "metadata": {},
   "source": [
    "model learning a specific pattern specialized in predicting one aspect are called weak learners .they can be used to obtain a meta-model. In the architecture of ensemble learners, the inputs are passed to each weak learner while collecting their predictions. The combined prediction can be used to build a final ensemble model."
   ]
  },
  {
   "cell_type": "markdown",
   "id": "b2c60e1f",
   "metadata": {},
   "source": [
    "## Ensemble Techniques"
   ]
  },
  {
   "cell_type": "markdown",
   "id": "7b49b8c9",
   "metadata": {},
   "source": [
    "#### Bagging\n",
    "\n",
    "The idea of bagging is based on making the training data available to an iterative process of learning. Each model learns the error produced by the previous model using a slightly different subset of the training dataset. Bagging reduces variance and minimizes overfitting"
   ]
  },
  {
   "cell_type": "markdown",
   "id": "de41a146",
   "metadata": {},
   "source": [
    "#### Boosting\n",
    "\n",
    "##### Adaptive Boosting (AdaBoost): \n",
    "\n",
    "In this technique, the process of training and measuring the error in estimates can be repeated for a given number of iteration or when the error rate is not changing significantly."
   ]
  },
  {
   "cell_type": "markdown",
   "id": "6f12b83f",
   "metadata": {},
   "source": [
    "#### Stacking\n",
    "\n",
    "Stacking is similar to boosting models; they produce more robust predictors. Stacking is a process of learning how to create such a stronger model from all weak learners’ predictions."
   ]
  },
  {
   "cell_type": "markdown",
   "id": "8391ed4c",
   "metadata": {},
   "source": [
    "#### Blending\n",
    "\n",
    "Very similar to the stacking approach, except the final model is learning the validation and testing dataset along with predictions. Hence, the features used is extended to include the validation set."
   ]
  },
  {
   "cell_type": "code",
   "execution_count": null,
   "id": "a7abefb7",
   "metadata": {},
   "outputs": [],
   "source": []
  }
 ],
 "metadata": {
  "kernelspec": {
   "display_name": "Python 3 (ipykernel)",
   "language": "python",
   "name": "python3"
  },
  "language_info": {
   "codemirror_mode": {
    "name": "ipython",
    "version": 3
   },
   "file_extension": ".py",
   "mimetype": "text/x-python",
   "name": "python",
   "nbconvert_exporter": "python",
   "pygments_lexer": "ipython3",
   "version": "3.9.7"
  }
 },
 "nbformat": 4,
 "nbformat_minor": 5
}
