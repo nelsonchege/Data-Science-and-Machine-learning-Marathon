{
 "cells": [
  {
   "cell_type": "markdown",
   "id": "d52a2a20",
   "metadata": {},
   "source": [
    "## Cloud Computing Definition\n",
    "\n",
    "Cloud computing is the delivery of technology services-including compute,storage,databases,networking,software,and many more-over the internet with pay-as-you-go pricing."
   ]
  },
  {
   "cell_type": "markdown",
   "id": "8dafc512",
   "metadata": {},
   "source": [
    "some of the infrastructures found in the cloud include"
   ]
  },
  {
   "cell_type": "markdown",
   "id": "2b7462a2",
   "metadata": {},
   "source": [
    "##### XaaS (Anything-as-a-Service)\n",
    "\n",
    "This is a generic term which refers to any service which is available as cloud enabled service through internet. Some time it is also called ‘everything-as-a-service’. It includes SaaS, DaaS, PaaS and IaaS etc.\n",
    "\n",
    "##### Software-as-a-Service (SaaS)\n",
    "\n",
    "SaaS comprises of software applications, which are run on distantly located computers that happens to be owned, as well as operated by others. A good example of such an application would be Google Docs, which is an online word processor based on cloud environment.\n",
    "\n",
    "##### Platform-as-a-Service (PaaS)\n",
    "\n",
    "PaaS is mainly a cloud-based environment that offers everything that is required to support the building and deployment of cloud-based applications. This is possible without the developer of the application having to purchase hardware, software, management and even hosting.\n",
    "\n",
    "##### Infrastructure-as-a-Service (IaaS)\n",
    "\n",
    "Infrastructure as a Service, or IaaS, provides basic infrastructure services to customers. These services may include physical machines, virtual machines, networking, storage, or some combination of these."
   ]
  },
  {
   "cell_type": "markdown",
   "id": "2dbe13b4",
   "metadata": {},
   "source": [
    "##### Cloud Services :\n",
    "\n",
    "- Compute: provide the brains to process your workload\n",
    "- Storage: save and store data\n",
    "- Databases: store more structured sets of data"
   ]
  },
  {
   "cell_type": "markdown",
   "id": "2eea5edb",
   "metadata": {},
   "source": [
    "##### Cloud Computing Characteristics :\n",
    "\n",
    "1. Virtualization\n",
    "2. Cost\n",
    "3. Reliability\n",
    "4. Speed\n",
    "5. Performance\n",
    "6. Scalability\n",
    "7. Agility\n",
    "8. Security"
   ]
  },
  {
   "cell_type": "code",
   "execution_count": null,
   "id": "b2e67a8b",
   "metadata": {},
   "outputs": [],
   "source": []
  }
 ],
 "metadata": {
  "kernelspec": {
   "display_name": "Python 3 (ipykernel)",
   "language": "python",
   "name": "python3"
  },
  "language_info": {
   "codemirror_mode": {
    "name": "ipython",
    "version": 3
   },
   "file_extension": ".py",
   "mimetype": "text/x-python",
   "name": "python",
   "nbconvert_exporter": "python",
   "pygments_lexer": "ipython3",
   "version": "3.9.7"
  }
 },
 "nbformat": 4,
 "nbformat_minor": 5
}
