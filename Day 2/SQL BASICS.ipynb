{
 "cells": [
  {
   "cell_type": "markdown",
   "id": "3435571e",
   "metadata": {},
   "source": [
    "## INTRODUCTION TO SQL"
   ]
  },
  {
   "cell_type": "markdown",
   "id": "f2156bf5",
   "metadata": {},
   "source": [
    "SQL, or Structured Query Language, is a language to talk to databases. It allows you to select specific data and to build complex reports. Today, SQL is a universal language of data. It is used in practically all technologies that process data."
   ]
  },
  {
   "cell_type": "markdown",
   "id": "54851886",
   "metadata": {},
   "source": [
    "### QUERYING SINGLE TABLE"
   ]
  },
  {
   "cell_type": "markdown",
   "id": "176c7158",
   "metadata": {},
   "source": [
    "Fetch all columns from the country table:\n",
    "\n",
    "SELECT *\n",
    "FROM country;\n",
    "\n",
    "Fetch id and name columns from the city table:\n",
    "\n",
    "SELECT id, name\n",
    "FROM city;"
   ]
  },
  {
   "cell_type": "markdown",
   "id": "ec15542f",
   "metadata": {},
   "source": [
    "#### ALIASES\n",
    "\n",
    "changing the field name \n",
    "\n",
    "COLUMNS\n",
    "\n",
    "SELECT name AS city_name\n",
    "FROM city;\n",
    "\n",
    "\n",
    "TABLES\n",
    "\n",
    "\n",
    "SELECT co.name, ci.name\n",
    "FROM city AS ci\n",
    "JOIN country AS co\n",
    "  ON ci.country_id = co.id;"
   ]
  },
  {
   "cell_type": "markdown",
   "id": "fab61fd6",
   "metadata": {},
   "source": [
    "#### FILTERING THE OUTPUT"
   ]
  },
  {
   "cell_type": "markdown",
   "id": "3dc4e648",
   "metadata": {},
   "source": [
    "##### COMPARISON OPERATORS\n",
    "\n",
    "Fetch names of cities that have a rating above 3:\n",
    "\n",
    "\n",
    "SELECT name\n",
    "FROM city\n",
    "WHERE rating > 3;\n",
    "\n",
    "\n",
    "Fetch names of cities that are neither Berlin nor Madrid:\n",
    "\n",
    "\n",
    "SELECT name\n",
    "FROM city\n",
    "WHERE name != 'Berlin'\n",
    "  AND name != 'Madrid';"
   ]
  },
  {
   "cell_type": "markdown",
   "id": "a5fd693e",
   "metadata": {},
   "source": [
    "#### TEXT OPERATORS\n",
    "\n",
    "Fetch names of cities that start with a 'P' or end with an 's':\n",
    "\n",
    "\n",
    "SELECT name\n",
    "FROM city\n",
    "WHERE name LIKE 'P%'\n",
    "  OR name LIKE '%s';\n",
    "  \n",
    "  \n",
    "Fetch names of cities that start with any letter followed by 'ublin' (like Dublin in Ireland or Lublin in Poland):\n",
    "\n",
    "\n",
    "SELECT name\n",
    "FROM city\n",
    "WHERE name LIKE '_ublin';\n"
   ]
  },
  {
   "cell_type": "markdown",
   "id": "4b7a4a36",
   "metadata": {},
   "source": [
    "### QUERYING MULTIPLE TABLES"
   ]
  },
  {
   "cell_type": "markdown",
   "id": "2dbe4a31",
   "metadata": {},
   "source": [
    "##### INNER JOIN\n",
    "\n",
    "\n",
    "JOIN (or explicitly INNER JOIN) returns rows that have matching values in both tables.\n",
    "\n",
    "SELECT city.name, country.name\n",
    "FROM city\n",
    "[INNER] JOIN country\n",
    "  ON city.country_id = country.id;"
   ]
  },
  {
   "cell_type": "markdown",
   "id": "ceb6e287",
   "metadata": {},
   "source": [
    "#### LEFT JOIN\n",
    "\n",
    "LEFT JOIN returns all rows from the left table with corresponding rows from the right table. If there's no matching row, NULLs are returned as values from the second table.\n",
    "\n",
    "SELECT city.name, country.name\n",
    "FROM city\n",
    "LEFT JOIN country\n",
    "  ON city.country_id = country.id;"
   ]
  },
  {
   "cell_type": "markdown",
   "id": "b77310d3",
   "metadata": {},
   "source": [
    "#### RIGHT JOIN\n",
    "\n",
    "RIGHT JOIN returns all rows from the right table with corresponding rows from the left table. If there's no matching row, NULLs are returned as values from the left table.\n",
    "\n",
    "SELECT city.name, country.name\n",
    "FROM city\n",
    "RIGHT JOIN country\n",
    "  ON city.country_id = country.id;"
   ]
  },
  {
   "cell_type": "markdown",
   "id": "6f0ed662",
   "metadata": {},
   "source": [
    "##### FULL JOIN\n",
    "\n",
    "FULL JOIN (or explicitly FULL OUTER JOIN) returns all rows from both tables – if there's no matching row in the second table, NULLs are returned.\n",
    "\n",
    "SELECT city.name, country.name\n",
    "FROM city\n",
    "FULL [OUTER] JOIN country\n",
    "  ON city.country_id = country.id;"
   ]
  },
  {
   "cell_type": "markdown",
   "id": "7110ebfa",
   "metadata": {},
   "source": [
    "##### CROSS JOIN\n",
    "\n",
    "CROSS JOIN returns all possible combinations of rows from both tables. There are two syntaxes available.\n",
    "\n",
    "SELECT city.name, country.name\n",
    "FROM city\n",
    "CROSS JOIN country;\n",
    "\n",
    "SELECT city.name, country.name\n",
    "FROM city, country;"
   ]
  },
  {
   "cell_type": "markdown",
   "id": "bb1eba73",
   "metadata": {},
   "source": [
    "##### NATURAL JOIN\n",
    "\n",
    "NATURAL JOIN will join tables by all columns with the same name.\n",
    "\n",
    "SELECT city.name, country.name\n",
    "FROM city\n",
    "NATURAL JOIN country;"
   ]
  },
  {
   "cell_type": "markdown",
   "id": "74c845d2",
   "metadata": {},
   "source": [
    "### AGGREGATION AND GROUPING"
   ]
  },
  {
   "cell_type": "markdown",
   "id": "9b6736fa",
   "metadata": {},
   "source": [
    "GROUP BY groups together rows that have the same values in specified columns. It computes summaries (aggregates) for each unique combination of values."
   ]
  },
  {
   "cell_type": "markdown",
   "id": "0ff293cb",
   "metadata": {},
   "source": [
    "##### AGGREGATE FUNCTIONS\n",
    "\n",
    "- avg(expr) − average value for rows within the group\n",
    "- count(expr) − count of values for rows within the group\n",
    "- max(expr) − maximum value within the group\n",
    "- min(expr) − minimum value within the group\n",
    "- sum(expr) − sum of values within the group"
   ]
  },
  {
   "cell_type": "code",
   "execution_count": null,
   "id": "e3e04b5f",
   "metadata": {},
   "outputs": [],
   "source": []
  }
 ],
 "metadata": {
  "kernelspec": {
   "display_name": "Python 3 (ipykernel)",
   "language": "python",
   "name": "python3"
  },
  "language_info": {
   "codemirror_mode": {
    "name": "ipython",
    "version": 3
   },
   "file_extension": ".py",
   "mimetype": "text/x-python",
   "name": "python",
   "nbconvert_exporter": "python",
   "pygments_lexer": "ipython3",
   "version": "3.9.7"
  }
 },
 "nbformat": 4,
 "nbformat_minor": 5
}
