{
 "cells": [
  {
   "cell_type": "markdown",
   "id": "6ae3406c",
   "metadata": {},
   "source": [
    "## Deploying ML Models as API using FastAPI"
   ]
  },
  {
   "cell_type": "markdown",
   "id": "599b0fea",
   "metadata": {},
   "source": [
    "#### Creating Basic API using FastAPI:\n",
    "\n",
    "Before creating our ML model lets start by creating a basic API that’s going to return us a simple message."
   ]
  },
  {
   "cell_type": "code",
   "execution_count": null,
   "id": "69f60370",
   "metadata": {},
   "outputs": [],
   "source": [
    "# Importing Necessary modules\n",
    "from fastapi import FastAPI\n",
    "import uvicorn\n",
    " \n",
    "# Declaring our FastAPI instance\n",
    "app = FastAPI()\n",
    " \n",
    "# Defining path operation for root endpoint\n",
    "@app.get('/')\n",
    "def main():\n",
    "    return {'message': 'Welcome to GeeksforGeeks!'}\n",
    " \n",
    "# Defining path operation for /name endpoint\n",
    "@app.get('/{name}')\n",
    "def hello_name(name : str):\n",
    "    # Defining a function that takes only string as input and output the\n",
    "    # following message.\n",
    "    return {'message': f'Welcome to GeeksforGeeks!, {name}'}"
   ]
  },
  {
   "cell_type": "markdown",
   "id": "cb312c7c",
   "metadata": {},
   "source": [
    "### Deploying our ML Model:\n",
    "\n",
    "#### Building Our Model:\n",
    "\n",
    "using GuassianNB as our model and iris dataset to train our model on. To build and train our model we use the following code:"
   ]
  },
  {
   "cell_type": "code",
   "execution_count": null,
   "id": "9cf49da4",
   "metadata": {},
   "outputs": [],
   "source": [
    "from sklearn.datasets import load_iris\n",
    "from sklearn.naive_bayes import GaussianNB\n",
    "\n",
    "# Loading Iris Dataset\n",
    "iris = load_iris()\n",
    "\n",
    "# Getting features and targets from the dataset\n",
    "X = iris.data\n",
    "Y = iris.target\n",
    "\n",
    "# Fitting our Model on the dataset\n",
    "clf = GaussianNB()\n",
    "clf.fit(X,Y)"
   ]
  },
  {
   "cell_type": "markdown",
   "id": "5da3eb22",
   "metadata": {},
   "source": [
    "Now that we have our model ready we need to define the format of the data we are going to provide to our model to make the predictions. This step is import because our model works on numerical data, and we don’t want to feed the data of any other type to our model, in order to do this we need to validate that the data we receive follows that norm. "
   ]
  },
  {
   "cell_type": "markdown",
   "id": "b1dec41b",
   "metadata": {},
   "source": [
    "### The Request Body:\n",
    "\n",
    "The data sent from the client side to the API is called a request body. The data sent from API to the client is called a response body. "
   ]
  },
  {
   "cell_type": "markdown",
   "id": "f0a40341",
   "metadata": {},
   "source": [
    "To define our request body we’ll use BaseModel ,in pydantic module, and define the format of the data we’ll send to the API. To define our request body, we’ll create a class that inherits BaseModel and define the features as the attributes of that class along with their type hints. What pydantic does is that it defines these type hints during runtime and generates an error when data is invalid. So let’s create our request_body class:-"
   ]
  },
  {
   "cell_type": "code",
   "execution_count": null,
   "id": "83574e97",
   "metadata": {},
   "outputs": [],
   "source": [
    "from pydantic import BaseModel\n",
    "\n",
    "class request_body(BaseModel):\n",
    "    sepal_length : float\n",
    "    sepal_width : float\n",
    "    petal_length : float\n",
    "    petal_width : float"
   ]
  },
  {
   "cell_type": "markdown",
   "id": "b1dda8f6",
   "metadata": {},
   "source": [
    "#### The Endpoint:\n",
    "\n",
    "Now that we have a request body all that’s left to do is to add an endpoint that’ll predict the class and return it as a response :"
   ]
  },
  {
   "cell_type": "code",
   "execution_count": null,
   "id": "bf7dadc8",
   "metadata": {},
   "outputs": [],
   "source": [
    "@app.post('/predict')\n",
    "def predict(data : request_body):\n",
    "    test_data = [[\n",
    "            data.sepal_length, \n",
    "            data.sepal_width, \n",
    "            data.petal_length, \n",
    "            data.petal_width\n",
    "    ]]\n",
    "    class_idx = clf.predict(test_data)[0]\n",
    "    return { 'class' : iris.target_names[class_idx]}"
   ]
  },
  {
   "cell_type": "markdown",
   "id": "54827fb9",
   "metadata": {},
   "source": [
    "And there we have our ML model deployed as an API. Now all that’s left to do is test it out."
   ]
  },
  {
   "cell_type": "markdown",
   "id": "35fe5adb",
   "metadata": {},
   "source": [
    "And as you can see we got our class as the response. And with that we have successfully deployed our ML model as an API using FastAPI."
   ]
  },
  {
   "cell_type": "code",
   "execution_count": null,
   "id": "53991b26",
   "metadata": {},
   "outputs": [],
   "source": []
  }
 ],
 "metadata": {
  "kernelspec": {
   "display_name": "Python 3 (ipykernel)",
   "language": "python",
   "name": "python3"
  },
  "language_info": {
   "codemirror_mode": {
    "name": "ipython",
    "version": 3
   },
   "file_extension": ".py",
   "mimetype": "text/x-python",
   "name": "python",
   "nbconvert_exporter": "python",
   "pygments_lexer": "ipython3",
   "version": "3.9.7"
  }
 },
 "nbformat": 4,
 "nbformat_minor": 5
}
