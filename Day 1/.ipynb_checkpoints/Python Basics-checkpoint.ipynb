{
 "cells": [
  {
   "cell_type": "markdown",
   "id": "54b42b54",
   "metadata": {},
   "source": [
    "## INTRODUCTION TO PYTHON "
   ]
  },
  {
   "cell_type": "markdown",
   "id": "25d3d1b7",
   "metadata": {},
   "source": [
    "####   PYTHON SYNTAX"
   ]
  },
  {
   "cell_type": "markdown",
   "id": "d2830e9a",
   "metadata": {},
   "source": [
    "Python uses whitespace and indentation to construct the code structure.\n",
    "\n",
    "\n",
    "according to pep8,one should use four space indentation \n",
    "bellow is an example of how you should use indentation in python"
   ]
  },
  {
   "cell_type": "code",
   "execution_count": 1,
   "id": "1a045e18",
   "metadata": {},
   "outputs": [
    {
     "name": "stdout",
     "output_type": "stream",
     "text": [
      "1\n",
      "2\n",
      "3\n",
      "4\n",
      "5\n",
      "6\n",
      "7\n",
      "8\n",
      "9\n"
     ]
    }
   ],
   "source": [
    "# define main function to print out something\n",
    "def main():\n",
    "    i = 1\n",
    "    max = 10\n",
    "    while (i < max):\n",
    "        print(i)\n",
    "        i = i + 1\n",
    "\n",
    "# call function main \n",
    "main()"
   ]
  },
  {
   "cell_type": "markdown",
   "id": "1900c6b6",
   "metadata": {},
   "source": [
    "In Python, a single line comment begins with a hash (#) symbol followed by the comment. For example:"
   ]
  },
  {
   "cell_type": "code",
   "execution_count": 2,
   "id": "6d3a317a",
   "metadata": {},
   "outputs": [],
   "source": [
    "# This is a single line comment in Python"
   ]
  },
  {
   "cell_type": "markdown",
   "id": "46429e21",
   "metadata": {},
   "source": [
    "Python uses a newline character to separate statements. It places each statement on one line.\n",
    "\n",
    "\n",
    "However, a long statement can span multiple lines by using the backslash (\\) character.\n",
    "\n",
    "\n",
    "The following example illustrates how to use the backslash (\\) character to continue a statement in the second line:"
   ]
  },
  {
   "cell_type": "code",
   "execution_count": 4,
   "id": "93c9ea23",
   "metadata": {},
   "outputs": [
    {
     "name": "stdout",
     "output_type": "stream",
     "text": [
      "Continuation of statements\n"
     ]
    }
   ],
   "source": [
    "a = True\n",
    "b = False\n",
    "c = True\n",
    "if (a == True) and (b == False) and \\\n",
    "   (c == True):\n",
    "    print(\"Continuation of statements\")"
   ]
  },
  {
   "cell_type": "markdown",
   "id": "6a16ed75",
   "metadata": {},
   "source": [
    "Some words have special meanings in Python. They are called keywords.\n",
    "\n",
    "The following shows the list of keywords in Python:"
   ]
  },
  {
   "cell_type": "markdown",
   "id": "7d52e72e",
   "metadata": {},
   "source": [
    "False      class      finally    is         return\n",
    "None       continue   for        lambda     try\n",
    "True       def        from       nonlocal   while\n",
    "and        del        global     not        with\n",
    "as         elif       if         or         yield\n",
    "assert     else       import     pass\n",
    "break      except     in         raise"
   ]
  },
  {
   "cell_type": "markdown",
   "id": "6b7c2da0",
   "metadata": {},
   "source": [
    "When you develop a program, you need to manage values, a lot of them. To store values, you use variables.\n",
    "\n",
    "In Python, a variable is a label that you can assign a value to it. And a variable is always associated with a value. For example:"
   ]
  },
  {
   "cell_type": "code",
   "execution_count": 6,
   "id": "299666aa",
   "metadata": {},
   "outputs": [
    {
     "name": "stdout",
     "output_type": "stream",
     "text": [
      "Hello, World!\n",
      "Good Bye!\n"
     ]
    }
   ],
   "source": [
    "message = 'Hello, World!'\n",
    "print(message)\n",
    "\n",
    "message = 'Good Bye!'\n",
    "print(message)"
   ]
  },
  {
   "cell_type": "markdown",
   "id": "938ae7aa",
   "metadata": {},
   "source": [
    "Use the below method/way to create a variable.  \n",
    "\n",
    "variable_name = value      "
   ]
  },
  {
   "cell_type": "markdown",
   "id": "c7331fe3",
   "metadata": {},
   "source": [
    "#### DATA TYPES"
   ]
  },
  {
   "cell_type": "markdown",
   "id": "98c6288c",
   "metadata": {},
   "source": [
    "##### Strings\n",
    "\n",
    "Strings are sequences of character data. The string type in Python is called str.\n",
    "\n",
    "String literals may be delimited using either single or double quotes. All the characters between the opening delimiter and matching closing delimiter are part of the string:"
   ]
  },
  {
   "cell_type": "code",
   "execution_count": 7,
   "id": "c5639943",
   "metadata": {},
   "outputs": [
    {
     "name": "stdout",
     "output_type": "stream",
     "text": [
      "I am a string.\n"
     ]
    }
   ],
   "source": [
    "print(\"I am a string.\")"
   ]
  },
  {
   "cell_type": "code",
   "execution_count": 8,
   "id": "46317d4b",
   "metadata": {},
   "outputs": [
    {
     "data": {
      "text/plain": [
       "str"
      ]
     },
     "execution_count": 8,
     "metadata": {},
     "output_type": "execute_result"
    }
   ],
   "source": [
    "type('I am too.')"
   ]
  },
  {
   "cell_type": "markdown",
   "id": "c3c4897a",
   "metadata": {},
   "source": [
    "###### Integers\n",
    "\n",
    "In Python 3, there is effectively no limit to how long an integer value can be. Of course, it is constrained by the amount of memory your system has, as are all things, but beyond that an integer can be as long as you need it to be:"
   ]
  },
  {
   "cell_type": "code",
   "execution_count": 9,
   "id": "422a509e",
   "metadata": {},
   "outputs": [
    {
     "name": "stdout",
     "output_type": "stream",
     "text": [
      "10\n"
     ]
    },
    {
     "data": {
      "text/plain": [
       "int"
      ]
     },
     "execution_count": 9,
     "metadata": {},
     "output_type": "execute_result"
    }
   ],
   "source": [
    "print(10)\n",
    "type(10)"
   ]
  },
  {
   "cell_type": "markdown",
   "id": "03150ff2",
   "metadata": {},
   "source": [
    "###### Floating-Point Numbers\n",
    "\n",
    "\n",
    "The float type in Python designates a floating-point number. float values are specified with a decimal point. Optionally, the character e or E followed by a positive or negative integer may be appended to specify scientific notation:"
   ]
  },
  {
   "cell_type": "code",
   "execution_count": 10,
   "id": "e47348bc",
   "metadata": {},
   "outputs": [
    {
     "name": "stdout",
     "output_type": "stream",
     "text": [
      "4.2\n"
     ]
    },
    {
     "data": {
      "text/plain": [
       "float"
      ]
     },
     "execution_count": 10,
     "metadata": {},
     "output_type": "execute_result"
    }
   ],
   "source": [
    "print(4.2)\n",
    "type(4.2)"
   ]
  },
  {
   "cell_type": "markdown",
   "id": "99c842d0",
   "metadata": {},
   "source": [
    "###### Raw Strings\n",
    "\n",
    "\n",
    "A raw string literal is preceded by r or R, which specifies that escape sequences in the associated string are not translated. The backslash character is left in the string:"
   ]
  },
  {
   "cell_type": "code",
   "execution_count": 12,
   "id": "1fbab048",
   "metadata": {},
   "outputs": [
    {
     "name": "stdout",
     "output_type": "stream",
     "text": [
      "foo\n",
      "bar\n",
      "---------border-------------\n",
      "foo\\nbar\n"
     ]
    }
   ],
   "source": [
    "print('foo\\nbar')\n",
    "print(\"---------border-------------\")\n",
    "print(r'foo\\nbar')"
   ]
  },
  {
   "cell_type": "markdown",
   "id": "b8928b77",
   "metadata": {},
   "source": [
    "##### Boolean Type\n",
    "\n",
    "Python 3 provides a Boolean data type. Objects of Boolean type may have one of two values, True or False:"
   ]
  },
  {
   "cell_type": "code",
   "execution_count": 13,
   "id": "7ab5da39",
   "metadata": {},
   "outputs": [
    {
     "data": {
      "text/plain": [
       "bool"
      ]
     },
     "execution_count": 13,
     "metadata": {},
     "output_type": "execute_result"
    }
   ],
   "source": [
    "type(True)\n",
    "type(False)"
   ]
  },
  {
   "cell_type": "markdown",
   "id": "4aafdf53",
   "metadata": {},
   "source": [
    "### Python comparison operators"
   ]
  },
  {
   "cell_type": "markdown",
   "id": "2d580192",
   "metadata": {},
   "source": [
    "In programming, you often want to compare a value with another value. To do that, you use comparison operators.\n",
    "\n",
    "Python has six comparison operators, which are as follows:"
   ]
  },
  {
   "cell_type": "code",
   "execution_count": null,
   "id": "aa2680a7",
   "metadata": {},
   "outputs": [],
   "source": [
    "Less than ( < )\n",
    "Less than or equal to (<=)\n",
    "Greater than (>)\n",
    "Greater than or equal to (>=)\n",
    "Equal to ( == )\n",
    "Not equal to ( != )"
   ]
  },
  {
   "cell_type": "markdown",
   "id": "ac3a6731",
   "metadata": {},
   "source": [
    "These comparison operators compare two values and return a boolean value, either True or False."
   ]
  },
  {
   "cell_type": "markdown",
   "id": "36cfc4f0",
   "metadata": {},
   "source": [
    "#### Python logical operators"
   ]
  },
  {
   "cell_type": "markdown",
   "id": "000325bd",
   "metadata": {},
   "source": [
    "Sometimes, you may want to check multiple conditions at the same time. To do so, you use logical operators.\n",
    "\n",
    "Python has three logical operators:"
   ]
  },
  {
   "cell_type": "markdown",
   "id": "db4c98e7",
   "metadata": {},
   "source": [
    "- and\n",
    "\n",
    "- or\n",
    "\n",
    "- not"
   ]
  },
  {
   "cell_type": "markdown",
   "id": "57e723a1",
   "metadata": {},
   "source": [
    "### Control flow"
   ]
  },
  {
   "cell_type": "markdown",
   "id": "70c15dd4",
   "metadata": {},
   "source": [
    "Some Decision Control Statements are:\n",
    "\n",
    "- Simple if\n",
    "\n",
    "- if-else\n",
    "\n",
    "- nested if\n",
    "\n",
    "- if-elif-else"
   ]
  },
  {
   "cell_type": "markdown",
   "id": "e7310d18",
   "metadata": {},
   "source": [
    "##### Simple if:\n",
    "If statements are control flow statements that help us to run a particular code, but only when a certain condition is met or satisfied. A simple if only has one condition to check."
   ]
  },
  {
   "cell_type": "markdown",
   "id": "02bd29f2",
   "metadata": {},
   "source": [
    "##### if-else:\n",
    "\n",
    "The if-else statement evaluates the condition and will execute the body of if if the test condition is True, but if the condition is False, then the body of else is executed."
   ]
  }
 ],
 "metadata": {
  "kernelspec": {
   "display_name": "Python 3 (ipykernel)",
   "language": "python",
   "name": "python3"
  },
  "language_info": {
   "codemirror_mode": {
    "name": "ipython",
    "version": 3
   },
   "file_extension": ".py",
   "mimetype": "text/x-python",
   "name": "python",
   "nbconvert_exporter": "python",
   "pygments_lexer": "ipython3",
   "version": "3.9.7"
  }
 },
 "nbformat": 4,
 "nbformat_minor": 5
}
