{
 "cells": [
  {
   "cell_type": "markdown",
   "id": "51a3c72b",
   "metadata": {},
   "source": [
    "## INTRODUCTION TO PYTHON "
   ]
  },
  {
   "cell_type": "markdown",
   "id": "1709740d",
   "metadata": {},
   "source": [
    "####   PYTHON SYNTAX"
   ]
  },
  {
   "cell_type": "markdown",
   "id": "70cb62b2",
   "metadata": {},
   "source": [
    "Python uses whitespace and indentation to construct the code structure.\n",
    "\n",
    "\n",
    "according to pep8,one should use four space indentation \n",
    "bellow is an example of how you should use indentation in python"
   ]
  },
  {
   "cell_type": "code",
   "execution_count": 1,
   "id": "18151f1b",
   "metadata": {},
   "outputs": [
    {
     "name": "stdout",
     "output_type": "stream",
     "text": [
      "1\n",
      "2\n",
      "3\n",
      "4\n",
      "5\n",
      "6\n",
      "7\n",
      "8\n",
      "9\n"
     ]
    }
   ],
   "source": [
    "# define main function to print out something\n",
    "def main():\n",
    "    i = 1\n",
    "    max = 10\n",
    "    while (i < max):\n",
    "        print(i)\n",
    "        i = i + 1\n",
    "\n",
    "# call function main \n",
    "main()"
   ]
  },
  {
   "cell_type": "markdown",
   "id": "e815ad4b",
   "metadata": {},
   "source": [
    "In Python, a single line comment begins with a hash (#) symbol followed by the comment. For example:"
   ]
  },
  {
   "cell_type": "code",
   "execution_count": 2,
   "id": "0327f30f",
   "metadata": {},
   "outputs": [],
   "source": [
    "# This is a single line comment in Python"
   ]
  },
  {
   "cell_type": "markdown",
   "id": "ee288964",
   "metadata": {},
   "source": [
    "Python uses a newline character to separate statements. It places each statement on one line.\n",
    "\n",
    "\n",
    "However, a long statement can span multiple lines by using the backslash (\\) character.\n",
    "\n",
    "\n",
    "The following example illustrates how to use the backslash (\\) character to continue a statement in the second line:"
   ]
  },
  {
   "cell_type": "code",
   "execution_count": 4,
   "id": "4a0427d5",
   "metadata": {},
   "outputs": [
    {
     "name": "stdout",
     "output_type": "stream",
     "text": [
      "Continuation of statements\n"
     ]
    }
   ],
   "source": [
    "a = True\n",
    "b = False\n",
    "c = True\n",
    "if (a == True) and (b == False) and \\\n",
    "   (c == True):\n",
    "    print(\"Continuation of statements\")"
   ]
  },
  {
   "cell_type": "markdown",
   "id": "1d1bbe8a",
   "metadata": {},
   "source": [
    "Some words have special meanings in Python. They are called keywords.\n",
    "\n",
    "The following shows the list of keywords in Python:"
   ]
  },
  {
   "cell_type": "markdown",
   "id": "3fb2d485",
   "metadata": {},
   "source": [
    "False      class      finally    is         return\n",
    "None       continue   for        lambda     try\n",
    "True       def        from       nonlocal   while\n",
    "and        del        global     not        with\n",
    "as         elif       if         or         yield\n",
    "assert     else       import     pass\n",
    "break      except     in         raise"
   ]
  },
  {
   "cell_type": "markdown",
   "id": "168d237c",
   "metadata": {},
   "source": [
    "When you develop a program, you need to manage values, a lot of them. To store values, you use variables.\n",
    "\n",
    "In Python, a variable is a label that you can assign a value to it. And a variable is always associated with a value. For example:"
   ]
  },
  {
   "cell_type": "code",
   "execution_count": 6,
   "id": "c11ddfc3",
   "metadata": {},
   "outputs": [
    {
     "name": "stdout",
     "output_type": "stream",
     "text": [
      "Hello, World!\n",
      "Good Bye!\n"
     ]
    }
   ],
   "source": [
    "message = 'Hello, World!'\n",
    "print(message)\n",
    "\n",
    "message = 'Good Bye!'\n",
    "print(message)"
   ]
  },
  {
   "cell_type": "markdown",
   "id": "5b12c1b3",
   "metadata": {},
   "source": [
    "Use the below method/way to create a variable.  \n",
    "\n",
    "variable_name = value      "
   ]
  },
  {
   "cell_type": "markdown",
   "id": "823db333",
   "metadata": {},
   "source": [
    "#### DATA TYPES"
   ]
  },
  {
   "cell_type": "markdown",
   "id": "ce89c496",
   "metadata": {},
   "source": [
    "##### Strings\n",
    "\n",
    "Strings are sequences of character data. The string type in Python is called str.\n",
    "\n",
    "String literals may be delimited using either single or double quotes. All the characters between the opening delimiter and matching closing delimiter are part of the string:"
   ]
  },
  {
   "cell_type": "code",
   "execution_count": 7,
   "id": "cb54106e",
   "metadata": {},
   "outputs": [
    {
     "name": "stdout",
     "output_type": "stream",
     "text": [
      "I am a string.\n"
     ]
    }
   ],
   "source": [
    "print(\"I am a string.\")"
   ]
  },
  {
   "cell_type": "code",
   "execution_count": 8,
   "id": "0669a0ec",
   "metadata": {},
   "outputs": [
    {
     "data": {
      "text/plain": [
       "str"
      ]
     },
     "execution_count": 8,
     "metadata": {},
     "output_type": "execute_result"
    }
   ],
   "source": [
    "type('I am too.')"
   ]
  },
  {
   "cell_type": "markdown",
   "id": "f5bb8807",
   "metadata": {},
   "source": [
    "###### Integers\n",
    "\n",
    "In Python 3, there is effectively no limit to how long an integer value can be. Of course, it is constrained by the amount of memory your system has, as are all things, but beyond that an integer can be as long as you need it to be:"
   ]
  },
  {
   "cell_type": "code",
   "execution_count": 9,
   "id": "6a6ebbe2",
   "metadata": {},
   "outputs": [
    {
     "name": "stdout",
     "output_type": "stream",
     "text": [
      "10\n"
     ]
    },
    {
     "data": {
      "text/plain": [
       "int"
      ]
     },
     "execution_count": 9,
     "metadata": {},
     "output_type": "execute_result"
    }
   ],
   "source": [
    "print(10)\n",
    "type(10)"
   ]
  },
  {
   "cell_type": "markdown",
   "id": "ebc1adec",
   "metadata": {},
   "source": [
    "###### Floating-Point Numbers\n",
    "\n",
    "\n",
    "The float type in Python designates a floating-point number. float values are specified with a decimal point. Optionally, the character e or E followed by a positive or negative integer may be appended to specify scientific notation:"
   ]
  },
  {
   "cell_type": "code",
   "execution_count": 10,
   "id": "7549cc86",
   "metadata": {},
   "outputs": [
    {
     "name": "stdout",
     "output_type": "stream",
     "text": [
      "4.2\n"
     ]
    },
    {
     "data": {
      "text/plain": [
       "float"
      ]
     },
     "execution_count": 10,
     "metadata": {},
     "output_type": "execute_result"
    }
   ],
   "source": [
    "print(4.2)\n",
    "type(4.2)"
   ]
  },
  {
   "cell_type": "markdown",
   "id": "63bf699d",
   "metadata": {},
   "source": [
    "###### Raw Strings\n",
    "\n",
    "\n",
    "A raw string literal is preceded by r or R, which specifies that escape sequences in the associated string are not translated. The backslash character is left in the string:"
   ]
  },
  {
   "cell_type": "code",
   "execution_count": 12,
   "id": "cec15a39",
   "metadata": {},
   "outputs": [
    {
     "name": "stdout",
     "output_type": "stream",
     "text": [
      "foo\n",
      "bar\n",
      "---------border-------------\n",
      "foo\\nbar\n"
     ]
    }
   ],
   "source": [
    "print('foo\\nbar')\n",
    "print(\"---------border-------------\")\n",
    "print(r'foo\\nbar')"
   ]
  },
  {
   "cell_type": "markdown",
   "id": "dbcfa87e",
   "metadata": {},
   "source": [
    "##### Boolean Type\n",
    "\n",
    "Python 3 provides a Boolean data type. Objects of Boolean type may have one of two values, True or False:"
   ]
  },
  {
   "cell_type": "code",
   "execution_count": 13,
   "id": "f02f3fb3",
   "metadata": {},
   "outputs": [
    {
     "data": {
      "text/plain": [
       "bool"
      ]
     },
     "execution_count": 13,
     "metadata": {},
     "output_type": "execute_result"
    }
   ],
   "source": [
    "type(True)\n",
    "type(False)"
   ]
  },
  {
   "cell_type": "markdown",
   "id": "836f2701",
   "metadata": {},
   "source": [
    "### Python comparison operators"
   ]
  },
  {
   "cell_type": "markdown",
   "id": "8a4ac1d4",
   "metadata": {},
   "source": [
    "In programming, you often want to compare a value with another value. To do that, you use comparison operators.\n",
    "\n",
    "Python has six comparison operators, which are as follows:"
   ]
  },
  {
   "cell_type": "code",
   "execution_count": null,
   "id": "06dc9c1e",
   "metadata": {},
   "outputs": [],
   "source": [
    "Less than ( < )\n",
    "Less than or equal to (<=)\n",
    "Greater than (>)\n",
    "Greater than or equal to (>=)\n",
    "Equal to ( == )\n",
    "Not equal to ( != )"
   ]
  },
  {
   "cell_type": "markdown",
   "id": "22303ce1",
   "metadata": {},
   "source": [
    "These comparison operators compare two values and return a boolean value, either True or False."
   ]
  },
  {
   "cell_type": "markdown",
   "id": "fd9649f3",
   "metadata": {},
   "source": [
    "#### Python logical operators"
   ]
  },
  {
   "cell_type": "markdown",
   "id": "ab5c13f2",
   "metadata": {},
   "source": [
    "Sometimes, you may want to check multiple conditions at the same time. To do so, you use logical operators.\n",
    "\n",
    "Python has three logical operators:"
   ]
  },
  {
   "cell_type": "markdown",
   "id": "72d46b97",
   "metadata": {},
   "source": [
    "- and\n",
    "\n",
    "- or\n",
    "\n",
    "- not"
   ]
  },
  {
   "cell_type": "markdown",
   "id": "2dc29b70",
   "metadata": {},
   "source": [
    "### Control flow"
   ]
  },
  {
   "cell_type": "markdown",
   "id": "43e66bbd",
   "metadata": {},
   "source": [
    "Some Decision Control Statements are:\n",
    "\n",
    "- Simple if\n",
    "\n",
    "- if-else\n",
    "\n",
    "- nested if\n",
    "\n",
    "- if-elif-else"
   ]
  },
  {
   "cell_type": "markdown",
   "id": "dc628cc7",
   "metadata": {},
   "source": [
    "##### Simple if:\n",
    "If statements are control flow statements that help us to run a particular code, but only when a certain condition is met or satisfied. A simple if only has one condition to check."
   ]
  },
  {
   "cell_type": "code",
   "execution_count": 14,
   "id": "21e21d24",
   "metadata": {},
   "outputs": [
    {
     "name": "stdout",
     "output_type": "stream",
     "text": [
      "n is an even number\n"
     ]
    }
   ],
   "source": [
    "n = 10\n",
    "if n % 2 == 0:\n",
    "   print(\"n is an even number\")"
   ]
  },
  {
   "cell_type": "markdown",
   "id": "d34c8250",
   "metadata": {},
   "source": [
    "##### if-else:\n",
    "\n",
    "The if-else statement evaluates the condition and will execute the body of if if the test condition is True, but if the condition is False, then the body of else is executed."
   ]
  },
  {
   "cell_type": "code",
   "execution_count": 15,
   "id": "8c5e8bf1",
   "metadata": {},
   "outputs": [
    {
     "name": "stdout",
     "output_type": "stream",
     "text": [
      "n is odd\n"
     ]
    }
   ],
   "source": [
    "n = 5\n",
    "if n % 2 == 0:\n",
    "   print(\"n is even\")\n",
    "else:\n",
    "   print(\"n is odd\")"
   ]
  },
  {
   "cell_type": "markdown",
   "id": "b93c96be",
   "metadata": {},
   "source": [
    "##### nested if:\n",
    "\n",
    "Nested if statements are an if statement inside another if statement."
   ]
  },
  {
   "cell_type": "code",
   "execution_count": 16,
   "id": "b6c80bd7",
   "metadata": {},
   "outputs": [
    {
     "name": "stdout",
     "output_type": "stream",
     "text": [
      "c is big\n"
     ]
    }
   ],
   "source": [
    "a = 5\n",
    "b = 10\n",
    "c = 15\n",
    "if a > b:\n",
    "   if a > c:\n",
    "      print(\"a value is big\")\n",
    "   else:\n",
    "       print(\"c value is big\")\n",
    "elif b > c:\n",
    "    print(\"b value is big\")\n",
    "else:\n",
    "     print(\"c is big\")"
   ]
  },
  {
   "cell_type": "markdown",
   "id": "7cd25f45",
   "metadata": {},
   "source": [
    "##### if-elif-else: \n",
    "\n",
    "The if-elif-else statement is used to conditionally execute a statement or a block of statements"
   ]
  },
  {
   "cell_type": "code",
   "execution_count": 17,
   "id": "74472ed8",
   "metadata": {},
   "outputs": [
    {
     "name": "stdout",
     "output_type": "stream",
     "text": [
      "x is greater than y\n"
     ]
    }
   ],
   "source": [
    "x = 15\n",
    "y = 12\n",
    "if x == y:\n",
    "   print(\"Both are Equal\")\n",
    "elif x > y:\n",
    "    print(\"x is greater than y\")\n",
    "else:\n",
    "    print(\"x is smaller than y\")"
   ]
  },
  {
   "cell_type": "markdown",
   "id": "860d4da2",
   "metadata": {},
   "source": [
    "#### repetition statement"
   ]
  },
  {
   "cell_type": "markdown",
   "id": "d3f3c578",
   "metadata": {},
   "source": [
    "A repetition statement is used to repeat a group(block) of programming instructions.\n",
    "\n",
    "In Python, we generally have two loops/repetitive statements:\n",
    "\n",
    "- for loop\n",
    "- while loop"
   ]
  },
  {
   "cell_type": "markdown",
   "id": "eb1e6bd6",
   "metadata": {},
   "source": [
    "##### for loop: \n",
    "\n",
    "A for loop is used to iterate over a sequence that is either a list, tuple, dictionary, or a set. We can execute a set of statements once for each item in a list, tuple, or dictionary."
   ]
  },
  {
   "cell_type": "code",
   "execution_count": 18,
   "id": "2814003b",
   "metadata": {},
   "outputs": [
    {
     "name": "stdout",
     "output_type": "stream",
     "text": [
      "1 2 3 4 5 0 1 2 3 4 5 6 7 8 9 "
     ]
    }
   ],
   "source": [
    "lst = [1, 2, 3, 4, 5]\n",
    "for i in range(len(lst)):\n",
    "     print(lst[i], end = \" \")\n",
    " \n",
    "for j in range(0,10):\n",
    "    print(j, end = \" \")"
   ]
  },
  {
   "cell_type": "markdown",
   "id": "4c992b2a",
   "metadata": {},
   "source": [
    "##### while loop:\n",
    "\n",
    "In Python, while loops are used to execute a block of statements repeatedly until a given condition is satisfied. Then, the expression is checked again and, if it is still true, the body is executed again. This continues until the expression becomes false."
   ]
  },
  {
   "cell_type": "code",
   "execution_count": 19,
   "id": "3358d841",
   "metadata": {},
   "outputs": [
    {
     "name": "stdout",
     "output_type": "stream",
     "text": [
      "0 1 2 3 4 End\n"
     ]
    }
   ],
   "source": [
    "m = 5\n",
    "i = 0\n",
    "while i < m:\n",
    "     print(i, end = \" \")\n",
    "     i = i + 1\n",
    "print(\"End\")"
   ]
  },
  {
   "cell_type": "markdown",
   "id": "7f95e544",
   "metadata": {},
   "source": [
    "#### Python Data Structures"
   ]
  },
  {
   "cell_type": "markdown",
   "id": "abef92da",
   "metadata": {},
   "source": [
    "#### Lists\n",
    "\n",
    "Lists are used to store data of different data types in a sequential manner. There are addresses assigned to every element of the list, which is called as Index. The index value starts from 0 and goes on until the last element called the positive index."
   ]
  },
  {
   "cell_type": "code",
   "execution_count": 20,
   "id": "6f637a40",
   "metadata": {},
   "outputs": [
    {
     "name": "stdout",
     "output_type": "stream",
     "text": [
      "[]\n"
     ]
    }
   ],
   "source": [
    "my_list = [] #create empty list\n",
    "print(my_list)"
   ]
  },
  {
   "cell_type": "markdown",
   "id": "dbce7833",
   "metadata": {},
   "source": [
    "##### Dictionary\n",
    "\n",
    "Dictionaries are used to store key-value pairs. To understand better, think of a phone directory where hundreds and thousands of names and their corresponding numbers have been added. Now the constant values here are Name and the Phone Numbers which are called as the keys. And the various names and phone numbers are the values that have been fed to the keys. If you access the values of the keys, you will obtain all the names and phone numbers. So that is what a key-value pair is."
   ]
  },
  {
   "cell_type": "code",
   "execution_count": 21,
   "id": "69d2c690",
   "metadata": {},
   "outputs": [
    {
     "name": "stdout",
     "output_type": "stream",
     "text": [
      "{}\n",
      "{1: 'Python', 2: 'Java'}\n"
     ]
    }
   ],
   "source": [
    "my_dict = {} #empty dictionary\n",
    "print(my_dict)\n",
    "my_dict = {1: 'Python', 2: 'Java'} #dictionary with elements\n",
    "print(my_dict)"
   ]
  },
  {
   "cell_type": "markdown",
   "id": "f3b6106e",
   "metadata": {},
   "source": [
    "##### Sets\n",
    "\n",
    "Sets are a collection of unordered elements that are unique. Meaning that even if the data is repeated more than one time, it would be entered into the set only once. It resembles the sets that you have learnt in arithmetic. The operations also are the same as is with the arithmetic sets. An example program would help you understand better."
   ]
  },
  {
   "cell_type": "code",
   "execution_count": 22,
   "id": "7df8b862",
   "metadata": {},
   "outputs": [
    {
     "name": "stdout",
     "output_type": "stream",
     "text": [
      "{1, 2, 3, 4, 5}\n"
     ]
    }
   ],
   "source": [
    "my_set = {1, 2, 3, 4, 5, 5, 5} #create set\n",
    "print(my_set)"
   ]
  },
  {
   "cell_type": "markdown",
   "id": "c48da5f7",
   "metadata": {},
   "source": [
    "#### Tuple\n",
    "\n",
    "Tuples are the same as lists are with the exception that the data once entered into the tuple cannot be changed no matter what. The only exception is when the data inside the tuple is mutable, only then the tuple data can be changed. The example program will help you understand better."
   ]
  },
  {
   "cell_type": "code",
   "execution_count": 23,
   "id": "64083cbd",
   "metadata": {},
   "outputs": [
    {
     "name": "stdout",
     "output_type": "stream",
     "text": [
      "(1, 2, 3, 4, 6, 3)\n"
     ]
    }
   ],
   "source": [
    "my_tuple = (1, 2, 3,4,6,3) #create tuple\n",
    "print(my_tuple) "
   ]
  },
  {
   "cell_type": "code",
   "execution_count": null,
   "id": "26ac2e4e",
   "metadata": {},
   "outputs": [],
   "source": []
  }
 ],
 "metadata": {
  "kernelspec": {
   "display_name": "Python 3 (ipykernel)",
   "language": "python",
   "name": "python3"
  },
  "language_info": {
   "codemirror_mode": {
    "name": "ipython",
    "version": 3
   },
   "file_extension": ".py",
   "mimetype": "text/x-python",
   "name": "python",
   "nbconvert_exporter": "python",
   "pygments_lexer": "ipython3",
   "version": "3.9.7"
  }
 },
 "nbformat": 4,
 "nbformat_minor": 5
}
